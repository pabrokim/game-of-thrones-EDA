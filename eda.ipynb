{
 "cells": [
  {
   "cell_type": "code",
   "execution_count": 32,
   "metadata": {},
   "outputs": [],
   "source": [
    "import pandas as pd\n",
    "import matplotlib.pyplot as plt\n",
    "import seaborn as sns\n",
    "from sklearn.impute import KNNImputer\n"
   ]
  },
  {
   "cell_type": "markdown",
   "metadata": {},
   "source": [
    "1.0 Battles"
   ]
  },
  {
   "cell_type": "code",
   "execution_count": 33,
   "metadata": {},
   "outputs": [],
   "source": [
    "#wrangle function\n",
    "\n",
    "def wrangle_1(file):\n",
    "    \n",
    "    #read csv file\n",
    "    df = pd.read_csv(file)\n",
    "\n",
    "    #columns to drop\n",
    "    cols_to_drop = ['attacker_2', 'attacker_3', 'attacker_4', 'defender_2','defender_3', 'defender_4', 'note'] \n",
    "    \n",
    "    #drop columns\n",
    "    df.drop(columns=cols_to_drop, inplace=True)\n",
    "\n",
    "    #Impute missing values with mode for categorical features\n",
    "    cat_cols = df.select_dtypes('object').columns\n",
    "    for col in cat_cols:\n",
    "        df[col].fillna(df[col].mode()[0], inplace=True)\n",
    "    \n",
    "    #Impute missing values with mean for numerical features\n",
    "    num_cols = df.select_dtypes(['int','float']).columns\n",
    "    for feature in num_cols:\n",
    "        df1[feature].fillna(df[feature].median(), inplace=True)\n",
    "\n",
    "    #remove outlier\n",
    "    \n",
    "    mask_a = df['attacker_size'] < 100000\n",
    "\n",
    "    df = df[mask_a]\n",
    "       \n",
    "    #return a dataframe\n",
    "    return df\n"
   ]
  },
  {
   "cell_type": "markdown",
   "metadata": {},
   "source": [
    "2.0 Character Deaths"
   ]
  },
  {
   "cell_type": "code",
   "execution_count": 34,
   "metadata": {},
   "outputs": [],
   "source": [
    "def wrangle_2(file):\n",
    "\n",
    "    #read csv file into dataframe\n",
    "    df = pd.read_csv(file)\n",
    "\n",
    "    #drop missing values\n",
    "    df.dropna(inplace=True)\n",
    "\n",
    "    return  df\n",
    "\n",
    "\n"
   ]
  },
  {
   "cell_type": "code",
   "execution_count": 64,
   "metadata": {},
   "outputs": [],
   "source": [
    "def wrangle_3(file):\n",
    "    #load csv\n",
    "    df = pd.read_csv(file)\n",
    "    \n",
    "    cols_cat = df.select_dtypes('object').columns\n",
    "    for col in cols_cat:\n",
    "        df[col].fillna(df[col].mode()[0], inplace=True)\n",
    "    \n",
    "\n",
    "    #Impute missing numerical values using KNN\n",
    "    cols_to_impute =  df.select_dtypes(['float64', 'int64']).columns\n",
    "\n",
    "    #Instantiate KNN\n",
    "    imputer = KNNImputer(n_neighbors=2) \n",
    "\n",
    "    #apply knn to selected columns\n",
    "    df[cols_to_impute]= imputer.fit_transform(df[cols_to_impute])\n",
    "\n",
    "    return df"
   ]
  },
  {
   "cell_type": "code",
   "execution_count": 65,
   "metadata": {},
   "outputs": [
    {
     "name": "stdout",
     "output_type": "stream",
     "text": [
      "<class 'pandas.core.frame.DataFrame'>\n",
      "RangeIndex: 1946 entries, 0 to 1945\n",
      "Data columns (total 33 columns):\n",
      " #   Column             Non-Null Count  Dtype  \n",
      "---  ------             --------------  -----  \n",
      " 0   S.No               1946 non-null   float64\n",
      " 1   actual             1946 non-null   float64\n",
      " 2   pred               1946 non-null   float64\n",
      " 3   alive              1946 non-null   float64\n",
      " 4   plod               1946 non-null   float64\n",
      " 5   name               1946 non-null   object \n",
      " 6   title              1946 non-null   object \n",
      " 7   male               1946 non-null   float64\n",
      " 8   culture            1946 non-null   object \n",
      " 9   dateOfBirth        1946 non-null   float64\n",
      " 10  DateoFdeath        1946 non-null   float64\n",
      " 11  mother             1946 non-null   object \n",
      " 12  father             1946 non-null   object \n",
      " 13  heir               1946 non-null   object \n",
      " 14  house              1946 non-null   object \n",
      " 15  spouse             1946 non-null   object \n",
      " 16  book1              1946 non-null   float64\n",
      " 17  book2              1946 non-null   float64\n",
      " 18  book3              1946 non-null   float64\n",
      " 19  book4              1946 non-null   float64\n",
      " 20  book5              1946 non-null   float64\n",
      " 21  isAliveMother      1946 non-null   float64\n",
      " 22  isAliveFather      1946 non-null   float64\n",
      " 23  isAliveHeir        1946 non-null   float64\n",
      " 24  isAliveSpouse      1946 non-null   float64\n",
      " 25  isMarried          1946 non-null   float64\n",
      " 26  isNoble            1946 non-null   float64\n",
      " 27  age                1946 non-null   float64\n",
      " 28  numDeadRelations   1946 non-null   float64\n",
      " 29  boolDeadRelations  1946 non-null   float64\n",
      " 30  isPopular          1946 non-null   float64\n",
      " 31  popularity         1946 non-null   float64\n",
      " 32  isAlive            1946 non-null   float64\n",
      "dtypes: float64(25), object(8)\n",
      "memory usage: 501.8+ KB\n"
     ]
    }
   ],
   "source": [
    "df = wrangle_3('character-predictions.csv')\n",
    "df.info()"
   ]
  }
 ],
 "metadata": {
  "kernelspec": {
   "display_name": "Python 3",
   "language": "python",
   "name": "python3"
  },
  "language_info": {
   "codemirror_mode": {
    "name": "ipython",
    "version": 3
   },
   "file_extension": ".py",
   "mimetype": "text/x-python",
   "name": "python",
   "nbconvert_exporter": "python",
   "pygments_lexer": "ipython3",
   "version": "3.10.12"
  }
 },
 "nbformat": 4,
 "nbformat_minor": 2
}
