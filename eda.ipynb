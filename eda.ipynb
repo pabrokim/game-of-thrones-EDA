{
 "cells": [
  {
   "cell_type": "code",
   "execution_count": 167,
   "metadata": {},
   "outputs": [],
   "source": [
    "import pandas as pd\n",
    "import matplotlib.pyplot as plt\n",
    "import seaborn as sns\n",
    "from sklearn.impute import KNNImputer\n"
   ]
  },
  {
   "cell_type": "markdown",
   "metadata": {},
   "source": [
    "1.0 Battles"
   ]
  },
  {
   "cell_type": "code",
   "execution_count": 145,
   "metadata": {},
   "outputs": [],
   "source": [
    "#wrangle function\n",
    "\n",
    "def wrangle(file):\n",
    "    #read csv file\n",
    "    df = pd.read_csv(file)\n",
    "\n",
    "    #columns to drop\n",
    "    cols_to_drop = ['attacker_2', 'attacker_3', 'attacker_4', 'defender_2','defender_3', 'defender_4', 'note'] \n",
    "    \n",
    "    #drop columns\n",
    "    df.drop(columns=cols_to_drop, inplace=True)\n",
    "\n",
    "    #Impute missing values with mode for categorical features\n",
    "    cat_cols = df.select_dtypes('object').columns\n",
    "    for col in cat_cols:\n",
    "        df[col].fillna(df[col].mode()[0], inplace=True)\n",
    "    \n",
    "    #Impute missing values with mean for numerical features\n",
    "    num_cols = df.select_dtypes(['int','float']).columns\n",
    "    for feature in num_cols:\n",
    "        df1[feature].fillna(df[feature].median(), inplace=True)\n",
    "\n",
    "    #remove outlier\n",
    "    \n",
    "    mask_a = df['attacker_size'] < 100000\n",
    "\n",
    "    df = df[mask_a]\n",
    "       \n",
    "    #return a dataframe\n",
    "    return df\n"
   ]
  },
  {
   "cell_type": "markdown",
   "metadata": {},
   "source": [
    "2.0 Character Deaths"
   ]
  },
  {
   "cell_type": "code",
   "execution_count": 175,
   "metadata": {},
   "outputs": [
    {
     "name": "stdout",
     "output_type": "stream",
     "text": [
      "<class 'pandas.core.frame.DataFrame'>\n",
      "Index: 221 entries, 3 to 916\n",
      "Data columns (total 13 columns):\n",
      " #   Column              Non-Null Count  Dtype  \n",
      "---  ------              --------------  -----  \n",
      " 0   Name                221 non-null    object \n",
      " 1   Allegiances         221 non-null    object \n",
      " 2   Death Year          221 non-null    float64\n",
      " 3   Book of Death       221 non-null    float64\n",
      " 4   Death Chapter       221 non-null    float64\n",
      " 5   Book Intro Chapter  221 non-null    float64\n",
      " 6   Gender              221 non-null    int64  \n",
      " 7   Nobility            221 non-null    int64  \n",
      " 8   GoT                 221 non-null    int64  \n",
      " 9   CoK                 221 non-null    int64  \n",
      " 10  SoS                 221 non-null    int64  \n",
      " 11  FfC                 221 non-null    int64  \n",
      " 12  DwD                 221 non-null    int64  \n",
      "dtypes: float64(4), int64(7), object(2)\n",
      "memory usage: 24.2+ KB\n"
     ]
    }
   ],
   "source": [
    "def wrangle(file):\n",
    "\n",
    "    #read csv file into dataframe\n",
    "    df = pd.read_csv(file)\n",
    "\n",
    "    #Impute missing values using KNN\n",
    "    #cols_to_impute = ['Death Year', 'Book of Death', 'Death Chapter', 'Book Intro Chapter']\n",
    "\n",
    "    #Instantiate KNN\n",
    "    imputer = KNNImputer(n_neighbors=2) \n",
    "\n",
    "    #apply knn to selected columns\n",
    "    df[cols_to_impute] = imputer.fit_transform(df[cols_to_impute])\n",
    "\n",
    "    #drop missing values\n",
    "    df.dropna(inplace=True)\n",
    "\n",
    "    return  df\n",
    "\n",
    "df = wrangle('character-deaths.csv')\n",
    "df.info()\n"
   ]
  },
  {
   "cell_type": "code",
   "execution_count": 168,
   "metadata": {},
   "outputs": [
    {
     "name": "stdout",
     "output_type": "stream",
     "text": [
      "<class 'pandas.core.frame.DataFrame'>\n",
      "RangeIndex: 917 entries, 0 to 916\n",
      "Data columns (total 13 columns):\n",
      " #   Column              Non-Null Count  Dtype  \n",
      "---  ------              --------------  -----  \n",
      " 0   Name                917 non-null    object \n",
      " 1   Allegiances         664 non-null    object \n",
      " 2   Death Year          305 non-null    float64\n",
      " 3   Book of Death       307 non-null    float64\n",
      " 4   Death Chapter       299 non-null    float64\n",
      " 5   Book Intro Chapter  905 non-null    float64\n",
      " 6   Gender              917 non-null    int64  \n",
      " 7   Nobility            917 non-null    int64  \n",
      " 8   GoT                 917 non-null    int64  \n",
      " 9   CoK                 917 non-null    int64  \n",
      " 10  SoS                 917 non-null    int64  \n",
      " 11  FfC                 917 non-null    int64  \n",
      " 12  DwD                 917 non-null    int64  \n",
      "dtypes: float64(4), int64(7), object(2)\n",
      "memory usage: 93.3+ KB\n"
     ]
    }
   ],
   "source": [
    "df.info()"
   ]
  }
 ],
 "metadata": {
  "kernelspec": {
   "display_name": "Python 3",
   "language": "python",
   "name": "python3"
  },
  "language_info": {
   "codemirror_mode": {
    "name": "ipython",
    "version": 3
   },
   "file_extension": ".py",
   "mimetype": "text/x-python",
   "name": "python",
   "nbconvert_exporter": "python",
   "pygments_lexer": "ipython3",
   "version": "3.10.12"
  }
 },
 "nbformat": 4,
 "nbformat_minor": 2
}
